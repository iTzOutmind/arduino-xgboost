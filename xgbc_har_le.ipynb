{
 "cells": [
  {
   "cell_type": "code",
   "execution_count": null,
   "metadata": {},
   "outputs": [],
   "source": [
    "# Import required libs\n",
    "import pandas as pd\n",
    "# from IPython.display import display\n",
    "from xgboost import XGBClassifier\n",
    "from sklearn.preprocessing import LabelEncoder\n",
    "from sklearn.model_selection import train_test_split\n",
    "from sklearn.metrics import accuracy_score\n",
    "import matplotlib.pyplot as pyplot\n",
    "\n",
    "# Load dataset\n",
    "heartattack_all_LE = pd.read_csv('datasets/heart_attack_risk_dataset.csv')\n",
    "heartattack_LE_OHE = pd.read_csv('datasets/heart_attack_risk_dataset.csv')"
   ]
  },
  {
   "cell_type": "code",
   "execution_count": null,
   "metadata": {},
   "outputs": [],
   "source": [
    "# Initialize Encoders\n",
    "leGender = LabelEncoder()       # Female, Male\n",
    "leHML = LabelEncoder()          # High, Moderate, Low\n",
    "leChestPain = LabelEncoder()    # Non-anginal, Asymptomatic, Typical, Atypical\n",
    "leThalassemia = LabelEncoder()  # Normal, Fixed Defect, Reversible Defect\n",
    "leECG = LabelEncoder()          # Normal, ST-T abnormality, Left ventricular hypertrophy"
   ]
  },
  {
   "cell_type": "code",
   "execution_count": null,
   "metadata": {},
   "outputs": [],
   "source": [
    "# Encode categorical columns using LE\n",
    "heartattack_all_LE['Gender'] = leGender.fit_transform(heartattack_all_LE['Gender'])\n",
    "\n",
    "heartattack_all_LE['Physical_Activity_Level'] = leHML.fit_transform(heartattack_all_LE['Physical_Activity_Level'])\n",
    "heartattack_all_LE['Stress_Level'] = leHML.fit_transform(heartattack_all_LE['Stress_Level'])\n",
    "heartattack_all_LE['Heart_Attack_Risk'] = leHML.fit_transform(heartattack_all_LE['Heart_Attack_Risk'])\n",
    "\n",
    "heartattack_all_LE['Chest_Pain_Type'] = leChestPain.fit_transform(heartattack_all_LE['Chest_Pain_Type'])\n",
    "heartattack_all_LE['Thalassemia'] = leThalassemia.fit_transform(heartattack_all_LE['Thalassemia'])\n",
    "heartattack_all_LE['ECG_Results'] = leECG.fit_transform(heartattack_all_LE['ECG_Results'])"
   ]
  },
  {
   "cell_type": "code",
   "execution_count": null,
   "metadata": {},
   "outputs": [],
   "source": [
    "# Split DF into Features and Labels\n",
    "Features_he_all_LE = heartattack_all_LE.iloc[:, :19]\n",
    "Labels_he_all_LE = heartattack_all_LE.iloc[:, 19:]\n",
    "\n",
    "# Splitting into Train- and Test-sets\n",
    "f_train_he_le, f_test_he_le, l_train_he_le, l_test_he_le = train_test_split(\n",
    "    Features_he_all_LE, \n",
    "    Labels_he_all_LE, \n",
    "    test_size=0.3, \n",
    "    random_state=38\n",
    ")"
   ]
  },
  {
   "cell_type": "code",
   "execution_count": null,
   "metadata": {},
   "outputs": [],
   "source": [
    "# Initialising XGB Classifier\n",
    "# xgbc =  XGBClassifier()\n",
    "# xgbc =  XGBClassifier(n_estimators=5, max_depth=2, learning_rate=1, objective='binary:logistic')\n",
    "xgbc_le =  XGBClassifier(\n",
    "    objective='multi:softmax',  # Specify the multi-class classification task\n",
    "    num_class=3,                # Number of classes (Low, Moderate, High)\n",
    "    max_depth=2,                # Maximum depth of the trees\n",
    "    learning_rate=0.2,          # Learning rate for the model\n",
    "    n_estimators=50,            # Number of boosting rounds (iterations)\n",
    "    random_state=0              # Set random state for reproducibility\n",
    ")"
   ]
  },
  {
   "cell_type": "code",
   "execution_count": null,
   "metadata": {},
   "outputs": [],
   "source": [
    "# Fitting and Predicting\n",
    "xgbc_le.fit(f_train_he_le, l_train_he_le)\n",
    "test_preds = xgbc_le.predict(f_test_he_le)\n",
    "train_preds= xgbc_le.predict(f_train_he_le)"
   ]
  },
  {
   "cell_type": "code",
   "execution_count": null,
   "metadata": {},
   "outputs": [],
   "source": [
    "# Evaluation\n",
    "print(f'Test Accuracy LE: {accuracy_score(l_test_he_le, test_preds)}')\n",
    "print(f'Train Accuracy LE: {accuracy_score(l_train_he_le, train_preds)}')"
   ]
  },
  {
   "cell_type": "markdown",
   "metadata": {},
   "source": [
    "[tune-xgboost-performance-with-learning-curves](https://machinelearningmastery.com/tune-xgboost-performance-with-learning-curves/)"
   ]
  },
  {
   "cell_type": "code",
   "execution_count": null,
   "metadata": {},
   "outputs": [],
   "source": [
    "# define the datasets to evaluate each iteration\n",
    "model = XGBClassifier(objective='multi:softmax',  # Specify the multi-class classification task\n",
    "    num_class=3,                # Number of classes (Low, Moderate, High)\n",
    "    max_depth=2,                # Maximum depth of the trees\n",
    "    learning_rate=0.2,          # Learning rate for the model\n",
    "    n_estimators=50,            # Number of boosting rounds (iterations)\n",
    "    random_state=0,             # Set random state for reproducibility\n",
    "    eval_metric='mlogloss'      # alternativ: eval_metric='merror'\n",
    ")\n",
    "evalset = [(f_train_he_le, l_train_he_le), (f_test_he_le, l_test_he_le)]\n",
    "\n",
    "\n",
    "# fit the model\n",
    "model.fit(f_train_he_le, l_train_he_le, eval_set=evalset)\n",
    "\n",
    "yhat = model.predict(f_test_he_le)\n",
    "score = accuracy_score(l_test_he_le, yhat)\n",
    "print('Accuracy: %.3f' % score)\n",
    "\n",
    "# retrieve performance metrics\n",
    "results = model.evals_result()\n",
    "\n",
    "pyplot.xlabel('Iterations')\n",
    "pyplot.ylabel('Log Loss')\n",
    "# plot learning curves\n",
    "pyplot.plot(results['validation_0']['mlogloss'], label='train')\n",
    "pyplot.plot(results['validation_1']['mlogloss'], label='test')\n",
    "# pyplot.plot(results['validation_0']['merror'], label='train')\n",
    "# pyplot.plot(results['validation_1']['merror'], label='test')\n",
    "# show the legend\n",
    "pyplot.legend()\n",
    "# show the plot\n",
    "pyplot.show()"
   ]
  },
  {
   "cell_type": "code",
   "execution_count": null,
   "metadata": {},
   "outputs": [],
   "source": [
    "print(type(results))\n",
    "print(results.keys())\n",
    "print(results['validation_0'])\n",
    "print(results['validation_0'].keys())\n",
    "print(type(results['validation_0']['mlogloss']))\n",
    "print(min(results['validation_0']['mlogloss']))\n",
    "print(max(results['validation_0']['mlogloss']))\n",
    "print(min(results['validation_1']['mlogloss']))\n",
    "print(max(results['validation_1']['mlogloss']))"
   ]
  }
 ],
 "metadata": {
  "kernelspec": {
   "display_name": "Python 3",
   "language": "python",
   "name": "python3"
  },
  "language_info": {
   "codemirror_mode": {
    "name": "ipython",
    "version": 3
   },
   "file_extension": ".py",
   "mimetype": "text/x-python",
   "name": "python",
   "nbconvert_exporter": "python",
   "pygments_lexer": "ipython3",
   "version": "3.10.12"
  }
 },
 "nbformat": 4,
 "nbformat_minor": 2
}
