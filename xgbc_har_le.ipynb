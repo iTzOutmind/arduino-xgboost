{
 "cells": [
  {
   "cell_type": "code",
   "execution_count": 204,
   "metadata": {},
   "outputs": [],
   "source": [
    "# Import required libs\n",
    "\n",
    "# from IPython.display import display\n",
    "import pandas as pd\n",
    "from xgboost import XGBClassifier\n",
    "from sklearn.preprocessing import LabelEncoder\n",
    "from sklearn.model_selection import train_test_split\n",
    "from sklearn.metrics import accuracy_score\n",
    "import matplotlib.pyplot as pyplot\n",
    "\n",
    "# Load dataset\n",
    "heartattack_all_LE = pd.read_csv('datasets/heart_attack_risk_dataset.csv')\n",
    "heartattack_LE_OHE = pd.read_csv('datasets/heart_attack_risk_dataset.csv')"
   ]
  },
  {
   "cell_type": "code",
   "execution_count": 205,
   "metadata": {},
   "outputs": [],
   "source": [
    "# Initialize Encoders\n",
    "leGender = LabelEncoder()       # Female, Male\n",
    "leHML = LabelEncoder()          # High, Moderate, Low\n",
    "leChestPain = LabelEncoder()    # Non-anginal, Asymptomatic, Typical, Atypical\n",
    "leThalassemia = LabelEncoder()  # Normal, Fixed Defect, Reversible Defect\n",
    "leECG = LabelEncoder()          # Normal, ST-T abnormality, Left ventricular hypertrophy"
   ]
  },
  {
   "cell_type": "code",
   "execution_count": 206,
   "metadata": {},
   "outputs": [],
   "source": [
    "# Encode categorical columns using LE\n",
    "heartattack_all_LE['Gender'] = leGender.fit_transform(heartattack_all_LE['Gender'])\n",
    "\n",
    "heartattack_all_LE['Physical_Activity_Level'] = leHML.fit_transform(heartattack_all_LE['Physical_Activity_Level'])\n",
    "heartattack_all_LE['Stress_Level'] = leHML.fit_transform(heartattack_all_LE['Stress_Level'])\n",
    "heartattack_all_LE['Heart_Attack_Risk'] = leHML.fit_transform(heartattack_all_LE['Heart_Attack_Risk'])\n",
    "\n",
    "heartattack_all_LE['Chest_Pain_Type'] = leChestPain.fit_transform(heartattack_all_LE['Chest_Pain_Type'])\n",
    "heartattack_all_LE['Thalassemia'] = leThalassemia.fit_transform(heartattack_all_LE['Thalassemia'])\n",
    "heartattack_all_LE['ECG_Results'] = leECG.fit_transform(heartattack_all_LE['ECG_Results'])"
   ]
  },
  {
   "cell_type": "code",
   "execution_count": 207,
   "metadata": {},
   "outputs": [],
   "source": [
    "# Split DF into Features and Labels\n",
    "Features_he_all_LE = heartattack_all_LE.iloc[:, :19]\n",
    "Labels_he_all_LE = heartattack_all_LE.iloc[:, 19:]\n",
    "\n",
    "# Splitting into Train- and Test-sets\n",
    "f_train_he_le, f_test_he_le, l_train_he_le, l_test_he_le = train_test_split(\n",
    "    Features_he_all_LE, \n",
    "    Labels_he_all_LE, \n",
    "    test_size=0.3, \n",
    "    random_state=38\n",
    ")"
   ]
  },
  {
   "cell_type": "code",
   "execution_count": 208,
   "metadata": {},
   "outputs": [],
   "source": [
    "# Initialising XGB Classifier\n",
    "# xgbc =  XGBClassifier()\n",
    "# xgbc =  XGBClassifier(n_estimators=5, max_depth=2, learning_rate=1, objective='binary:logistic')\n",
    "xgbc_le =  XGBClassifier(\n",
    "    objective='multi:softmax',  # Specify the multi-class classification task\n",
    "    num_class=3,                # Number of classes (Low, Moderate, High)\n",
    "    max_depth=2,                # Maximum depth of the trees\n",
    "    learning_rate=0.2,          # Learning rate for the model\n",
    "    n_estimators=50,            # Number of boosting rounds (iterations)\n",
    "    random_state=0              # Set random state for reproducibility\n",
    ")"
   ]
  },
  {
   "cell_type": "code",
   "execution_count": 209,
   "metadata": {},
   "outputs": [],
   "source": [
    "# Fitting and Predicting\n",
    "xgbc_le.fit(f_train_he_le, l_train_he_le)\n",
    "test_preds = xgbc_le.predict(f_test_he_le)\n",
    "train_preds= xgbc_le.predict(f_train_he_le)"
   ]
  },
  {
   "cell_type": "code",
   "execution_count": 210,
   "metadata": {},
   "outputs": [
    {
     "name": "stdout",
     "output_type": "stream",
     "text": [
      "Test Accuracy LE: 0.5022\n",
      "Train Accuracy LE: 0.5000285714285714\n"
     ]
    }
   ],
   "source": [
    "# Evaluation\n",
    "print(f'Test Accuracy LE: {accuracy_score(l_test_he_le, test_preds)}')\n",
    "print(f'Train Accuracy LE: {accuracy_score(l_train_he_le, train_preds)}')"
   ]
  },
  {
   "cell_type": "markdown",
   "metadata": {},
   "source": [
    "[tune-xgboost-performance-with-learning-curves](https://machinelearningmastery.com/tune-xgboost-performance-with-learning-curves/)"
   ]
  },
  {
   "cell_type": "code",
   "execution_count": 211,
   "metadata": {},
   "outputs": [
    {
     "name": "stdout",
     "output_type": "stream",
     "text": [
      "[0]\tvalidation_0-mlogloss:1.07921\tvalidation_1-mlogloss:1.07915\n",
      "[1]\tvalidation_0-mlogloss:1.06535\tvalidation_1-mlogloss:1.06520\n",
      "[2]\tvalidation_0-mlogloss:1.05537\tvalidation_1-mlogloss:1.05518\n",
      "[3]\tvalidation_0-mlogloss:1.04818\tvalidation_1-mlogloss:1.04798\n",
      "[4]\tvalidation_0-mlogloss:1.04294\tvalidation_1-mlogloss:1.04274\n",
      "[5]\tvalidation_0-mlogloss:1.03916\tvalidation_1-mlogloss:1.03900\n",
      "[6]\tvalidation_0-mlogloss:1.03638\tvalidation_1-mlogloss:1.03628\n",
      "[7]\tvalidation_0-mlogloss:1.03435\tvalidation_1-mlogloss:1.03432\n",
      "[8]\tvalidation_0-mlogloss:1.03284\tvalidation_1-mlogloss:1.03289\n",
      "[9]\tvalidation_0-mlogloss:1.03172\tvalidation_1-mlogloss:1.03181\n",
      "[10]\tvalidation_0-mlogloss:1.03089\tvalidation_1-mlogloss:1.03114\n",
      "[11]\tvalidation_0-mlogloss:1.03026\tvalidation_1-mlogloss:1.03060\n",
      "[12]\tvalidation_0-mlogloss:1.02979\tvalidation_1-mlogloss:1.03020\n",
      "[13]\tvalidation_0-mlogloss:1.02941\tvalidation_1-mlogloss:1.02992\n",
      "[14]\tvalidation_0-mlogloss:1.02909\tvalidation_1-mlogloss:1.02971\n",
      "[15]\tvalidation_0-mlogloss:1.02885\tvalidation_1-mlogloss:1.02957\n",
      "[16]\tvalidation_0-mlogloss:1.02862\tvalidation_1-mlogloss:1.02945\n",
      "[17]\tvalidation_0-mlogloss:1.02846\tvalidation_1-mlogloss:1.02938\n",
      "[18]\tvalidation_0-mlogloss:1.02832\tvalidation_1-mlogloss:1.02936\n",
      "[19]\tvalidation_0-mlogloss:1.02818\tvalidation_1-mlogloss:1.02935\n",
      "[20]\tvalidation_0-mlogloss:1.02806\tvalidation_1-mlogloss:1.02931\n",
      "[21]\tvalidation_0-mlogloss:1.02794\tvalidation_1-mlogloss:1.02926\n",
      "Accuracy: 0.502\n"
     ]
    },
    {
     "data": {
      "image/png": "[encoded data removed]",
      "text/plain": [
       "<Figure size 640x480 with 1 Axes>"
      ]
     },
     "metadata": {},
     "output_type": "display_data"
    }
   ],
   "source": [
    "# define the datasets to evaluate each iteration\n",
    "model = XGBClassifier(objective='multi:softmax',  # Specify the multi-class classification task\n",
    "    num_class=3,                # Number of classes (Low, Moderate, High)\n",
    "    max_depth=2,                # Maximum depth of the trees\n",
    "    learning_rate=0.2,          # Learning rate for the model\n",
    "    n_estimators=22,            # Number of boosting rounds (iterations) (n=22 best according to brute force eval)\n",
    "    random_state=0,             # Set random state for reproducibility\n",
    "    eval_metric='mlogloss'      # alternativ: eval_metric='merror'\n",
    ")\n",
    "evalset = [(f_train_he_le, l_train_he_le), (f_test_he_le, l_test_he_le)]\n",
    "\n",
    "\n",
    "# fit the model\n",
    "model.fit(f_train_he_le, l_train_he_le, eval_set=evalset)\n",
    "\n",
    "yhat = model.predict(f_test_he_le)\n",
    "score = accuracy_score(l_test_he_le, yhat)\n",
    "print('Accuracy: %.3f' % score)\n",
    "\n",
    "# retrieve performance metrics\n",
    "results = model.evals_result()\n",
    "\n",
    "pyplot.xlabel('Iterations')\n",
    "pyplot.ylabel('Log Loss')\n",
    "# plot learning curves\n",
    "pyplot.plot(results['validation_0']['mlogloss'], label='train')\n",
    "pyplot.plot(results['validation_1']['mlogloss'], label='test')\n",
    "# pyplot.plot(results['validation_0']['merror'], label='train')\n",
    "# pyplot.plot(results['validation_1']['merror'], label='test')\n",
    "# show the legend\n",
    "pyplot.legend()\n",
    "# show the plot\n",
    "pyplot.show()"
   ]
  },
  {
   "cell_type": "code",
   "execution_count": 212,
   "metadata": {},
   "outputs": [
    {
     "name": "stdout",
     "output_type": "stream",
     "text": [
      "Minimal Training Loss: \t1.0279404353499413 at Iteration: 22\n",
      "Minimal Testing Loss: \t1.0292646631519 at Iteration: 22\n",
      "Maximal Training Loss: \t1.0792134557247162 at Iteration: 1\n",
      "Maximal Testing Loss: \t1.0791461881875992 at Iteration: 1\n"
     ]
    }
   ],
   "source": [
    "# print(min(results['validation_0']['mlogloss']))\n",
    "# print(max(results['validation_0']['mlogloss']))\n",
    "# print(min(results['validation_1']['mlogloss']))\n",
    "# print(max(results['validation_1']['mlogloss']))\n",
    "\n",
    "min_train = min(results['validation_0']['mlogloss'])\n",
    "max_train = max(results['validation_0']['mlogloss'])\n",
    "min_test = min(results['validation_1']['mlogloss'])\n",
    "max_test = max(results['validation_1']['mlogloss'])\n",
    "\n",
    "print(f'Minimal Training Loss: \\t{min_train} at Iteration: {results[\"validation_0\"][\"mlogloss\"].index(min_train)+1}')\n",
    "print(f'Minimal Testing Loss: \\t{min_test} at Iteration: {results[\"validation_1\"][\"mlogloss\"].index(min_test)+1}')\n",
    "print(f'Maximal Training Loss: \\t{max_train} at Iteration: {results[\"validation_0\"][\"mlogloss\"].index(max_train)+1}')\n",
    "print(f'Maximal Testing Loss: \\t{max_test} at Iteration: {results[\"validation_1\"][\"mlogloss\"].index(max_test)+1}')\n"
   ]
  }
 ],
 "metadata": {
  "kernelspec": {
   "display_name": "Python 3",
   "language": "python",
   "name": "python3"
  },
  "language_info": {
   "codemirror_mode": {
    "name": "ipython",
    "version": 3
   },
   "file_extension": ".py",
   "mimetype": "text/x-python",
   "name": "python",
   "nbconvert_exporter": "python",
   "pygments_lexer": "ipython3",
   "version": "3.10.12"
  }
 },
 "nbformat": 4,
 "nbformat_minor": 2
}
