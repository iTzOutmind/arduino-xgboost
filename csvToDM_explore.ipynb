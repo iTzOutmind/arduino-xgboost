{
 "cells": [
  {
   "cell_type": "markdown",
   "metadata": {},
   "source": [
    "Importiere die benötigten Bibliotheken:"
   ]
  },
  {
   "cell_type": "code",
   "execution_count": null,
   "metadata": {},
   "outputs": [],
   "source": [
    "import numpy as np\n",
    "import pandas as pd\n",
    "from xgboost import DMatrix, train"
   ]
  },
  {
   "cell_type": "markdown",
   "metadata": {},
   "source": [
    "Importiere den Datensatz:"
   ]
  },
  {
   "cell_type": "code",
   "execution_count": null,
   "metadata": {},
   "outputs": [],
   "source": [
    "heartattack = pd.read_csv('datasets/heart_attack_risk_dataset.csv')"
   ]
  },
  {
   "cell_type": "markdown",
   "metadata": {},
   "source": [
    "Gebe den Namen und den Datentypen jeder Spalte aus dem DF wieder:"
   ]
  },
  {
   "cell_type": "code",
   "execution_count": null,
   "metadata": {},
   "outputs": [],
   "source": [
    "for col in heartattack.columns:\n",
    "    print(f'Column: \\t{col} \\nData Type: \\t{heartattack[col].dtype}\\n')"
   ]
  },
  {
   "cell_type": "markdown",
   "metadata": {},
   "source": [
    "Erstelle einen DF, der nur kategorische Spalten führt. <br>\n",
    "Gebe eine Zusammenfassung jeder Spalte wieder:"
   ]
  },
  {
   "cell_type": "code",
   "execution_count": null,
   "metadata": {},
   "outputs": [],
   "source": [
    "cat_heartattack = heartattack.select_dtypes(include=['object'])\n",
    "cat_heartattack_colsList = cat_heartattack.columns.to_list()\n",
    "print(\"#################################################\")\n",
    "print(\"####### Summaries of categorical columns: #######\")\n",
    "print(\"#################################################\\n\")\n",
    "for col in cat_heartattack_colsList:\n",
    "    print(f\"Column: \\t{col} \\nUnique Values: \\t{cat_heartattack[col].unique()}\\n\")"
   ]
  },
  {
   "cell_type": "markdown",
   "metadata": {},
   "source": [
    "Erstelle einen DF, der nur nummerische Spalten führt. <br>\n",
    "Gebe zu jeder Spalte eine statistische Zusammenfassung aus."
   ]
  },
  {
   "cell_type": "code",
   "execution_count": null,
   "metadata": {},
   "outputs": [],
   "source": [
    "num_heartattack = heartattack.select_dtypes(include=['int64', 'float64'])\n",
    "num_heartattack_colsList = num_heartattack.columns.to_list()\n",
    "print(\"#################################################\")\n",
    "print(\"####### Summaries of numerical columns: #########\")\n",
    "print(\"#################################################\\n\")\n",
    "for col in num_heartattack_colsList:\n",
    "    print(f\"Column: {col} \\n{heartattack[col].describe()} \\nData Type: {heartattack[col].dtype}\\n\")"
   ]
  },
  {
   "cell_type": "markdown",
   "metadata": {},
   "source": [
    "Gebe die absoluten und relativen Häufigkeiten der einzelnen Herzinfarktrisiken aus:"
   ]
  },
  {
   "cell_type": "code",
   "execution_count": null,
   "metadata": {},
   "outputs": [],
   "source": [
    "print(\"##############################################\")\n",
    "print(\"####### Heart Attack Risk Distribution #######\")\n",
    "print(\"##############################################\\n\")\n",
    "for cat in heartattack[\"Heart_Attack_Risk\"].unique():\n",
    "    print(f'Risikogruppe: {cat} \\nAnzahl der Einträge: {heartattack[\"Heart_Attack_Risk\"].value_counts()[cat]} \\nRelativer Anteil: {heartattack[\"Heart_Attack_Risk\"].value_counts()[cat]/heartattack[\"Heart_Attack_Risk\"].count()}%.\\n')"
   ]
  },
  {
   "cell_type": "markdown",
   "metadata": {},
   "source": [
    "Write summary statistics of each numerical variable to a text file:"
   ]
  },
  {
   "cell_type": "code",
   "execution_count": null,
   "metadata": {},
   "outputs": [],
   "source": [
    "filename = \"summaries.txt\"\n",
    "\n",
    "with open(filename, \"w\") as file:\n",
    "    file.write(\"#################################################\")\n",
    "    file.write(\"\\n####### Summaries of numerical columns: #########\\n\")\n",
    "    file.write(\"#################################################\\n\\n\")\n",
    "    for col in num_heartattack_colsList:\n",
    "        file.write(f\"Column: {col} \\n{heartattack[col].describe()} \\nData Type: {heartattack[col].dtype}\\n\\n\")\n",
    "\n",
    "    file.write(\"#################################################\")\n",
    "    file.write(\"\\n####### Summaries of categorical columns: #######\\n\")\n",
    "    file.write(\"#################################################\\n\\n\")\n",
    "    for col in cat_heartattack_colsList:\n",
    "        file.write(f\"Column: \\t{col} \\nUnique Values: \\t{cat_heartattack[col].unique()}\\n\\n\")\n",
    "\n",
    "    file.write(\"##############################################\")\n",
    "    file.write(\"\\n####### Heart Attack Risk Distribution #######\\n\")\n",
    "    file.write(\"##############################################\\n\\n\")\n",
    "    for cat in heartattack[\"Heart_Attack_Risk\"].unique():\n",
    "        file.write(f'Risikogruppe: {cat} \\nAnzahl der Einträge: {heartattack[\"Heart_Attack_Risk\"].value_counts()[cat]} \\nRelativer Anteil: {heartattack[\"Heart_Attack_Risk\"].value_counts()[cat]/heartattack[\"Heart_Attack_Risk\"].count()}%.\\n\\n')"
   ]
  }
 ],
 "metadata": {
  "kernelspec": {
   "display_name": "Python 3",
   "language": "python",
   "name": "python3"
  },
  "language_info": {
   "codemirror_mode": {
    "name": "ipython",
    "version": 3
   },
   "file_extension": ".py",
   "mimetype": "text/x-python",
   "name": "python",
   "nbconvert_exporter": "python",
   "pygments_lexer": "ipython3",
   "version": "3.10.12"
  }
 },
 "nbformat": 4,
 "nbformat_minor": 2
}
