{
 "cells": [
  {
   "cell_type": "markdown",
   "metadata": {},
   "source": [
    "Importing required libs"
   ]
  },
  {
   "cell_type": "markdown",
   "metadata": {},
   "source": []
  },
  {
   "cell_type": "code",
   "execution_count": 3,
   "metadata": {},
   "outputs": [],
   "source": [
    "import numpy as np\n",
    "import pandas as pd\n",
    "from xgboost import DMatrix, train"
   ]
  },
  {
   "cell_type": "markdown",
   "metadata": {},
   "source": [
    "Importing CSV-file"
   ]
  },
  {
   "cell_type": "code",
   "execution_count": null,
   "metadata": {},
   "outputs": [],
   "source": [
    "heartattack = pd.read_csv('datasets/heart_attack_risk_dataset.csv')"
   ]
  },
  {
   "cell_type": "markdown",
   "metadata": {},
   "source": [
    "*.head() prints first 5 entries of the examined df"
   ]
  },
  {
   "cell_type": "code",
   "execution_count": 5,
   "metadata": {},
   "outputs": [
    {
     "name": "stdout",
     "output_type": "stream",
     "text": [
      "   Age  Gender  Smoking  Alcohol_Consumption Physical_Activity_Level    BMI  \\\n",
      "0   69  Female        1                    0                Moderate  34.61   \n",
      "1   32    Male        0                    0                Moderate  22.75   \n",
      "2   89    Male        0                    1                Moderate  35.32   \n",
      "3   78    Male        0                    1                Moderate  18.23   \n",
      "4   38  Female        1                    0                Moderate  19.82   \n",
      "\n",
      "   Diabetes  Hypertension  Cholesterol_Level  Resting_BP  Heart_Rate  \\\n",
      "0         1             0              152.1         171          85   \n",
      "1         0             0              166.8         126         103   \n",
      "2         0             0              272.3         123         127   \n",
      "3         1             0              237.7         144         125   \n",
      "4         0             0              207.7         123         107   \n",
      "\n",
      "   Family_History Stress_Level Chest_Pain_Type        Thalassemia  \\\n",
      "0               0     Moderate     Non-anginal  Reversible defect   \n",
      "1               0          Low    Asymptomatic             Normal   \n",
      "2               0          Low         Typical  Reversible defect   \n",
      "3               0          Low         Typical       Fixed defect   \n",
      "4               0         High    Asymptomatic  Reversible defect   \n",
      "\n",
      "   Fasting_Blood_Sugar                   ECG_Results  Exercise_Induced_Angina  \\\n",
      "0                    0                        Normal                        0   \n",
      "1                    0              ST-T abnormality                        0   \n",
      "2                    0              ST-T abnormality                        0   \n",
      "3                    1  Left Ventricular Hypertrophy                        0   \n",
      "4                    0              ST-T abnormality                        0   \n",
      "\n",
      "   Max_Heart_Rate_Achieved Heart_Attack_Risk  \n",
      "0                      114               Low  \n",
      "1                      173          Moderate  \n",
      "2                      109               Low  \n",
      "3                      129               Low  \n",
      "4                      124          Moderate  \n"
     ]
    }
   ],
   "source": [
    "print(heartattack.head())"
   ]
  },
  {
   "cell_type": "markdown",
   "metadata": {},
   "source": [
    "Return a list of all column-names:"
   ]
  },
  {
   "cell_type": "code",
   "execution_count": 6,
   "metadata": {},
   "outputs": [
    {
     "name": "stdout",
     "output_type": "stream",
     "text": [
      "Index(['Age', 'Gender', 'Smoking', 'Alcohol_Consumption',\n",
      "       'Physical_Activity_Level', 'BMI', 'Diabetes', 'Hypertension',\n",
      "       'Cholesterol_Level', 'Resting_BP', 'Heart_Rate', 'Family_History',\n",
      "       'Stress_Level', 'Chest_Pain_Type', 'Thalassemia', 'Fasting_Blood_Sugar',\n",
      "       'ECG_Results', 'Exercise_Induced_Angina', 'Max_Heart_Rate_Achieved',\n",
      "       'Heart_Attack_Risk'],\n",
      "      dtype='object')\n"
     ]
    }
   ],
   "source": [
    "print(heartattack.columns)"
   ]
  },
  {
   "cell_type": "code",
   "execution_count": 9,
   "metadata": {},
   "outputs": [
    {
     "name": "stdout",
     "output_type": "stream",
     "text": [
      "Age                          int64\n",
      "Gender                      object\n",
      "Smoking                      int64\n",
      "Alcohol_Consumption          int64\n",
      "Physical_Activity_Level     object\n",
      "BMI                        float64\n",
      "Diabetes                     int64\n",
      "Hypertension                 int64\n",
      "Cholesterol_Level          float64\n",
      "Resting_BP                   int64\n",
      "Heart_Rate                   int64\n",
      "Family_History               int64\n",
      "Stress_Level                object\n",
      "Chest_Pain_Type             object\n",
      "Thalassemia                 object\n",
      "Fasting_Blood_Sugar          int64\n",
      "ECG_Results                 object\n",
      "Exercise_Induced_Angina      int64\n",
      "Max_Heart_Rate_Achieved      int64\n",
      "Heart_Attack_Risk           object\n",
      "dtype: object\n"
     ]
    }
   ],
   "source": [
    "print(heartattack.dtypes)"
   ]
  }
 ],
 "metadata": {
  "kernelspec": {
   "display_name": "Python 3",
   "language": "python",
   "name": "python3"
  },
  "language_info": {
   "codemirror_mode": {
    "name": "ipython",
    "version": 3
   },
   "file_extension": ".py",
   "mimetype": "text/x-python",
   "name": "python",
   "nbconvert_exporter": "python",
   "pygments_lexer": "ipython3",
   "version": "3.10.12"
  }
 },
 "nbformat": 4,
 "nbformat_minor": 2
}
