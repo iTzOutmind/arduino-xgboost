{
 "cells": [
  {
   "cell_type": "markdown",
   "metadata": {},
   "source": [
    "##### <ins>Import required libs</ins>"
   ]
  },
  {
   "cell_type": "code",
   "execution_count": null,
   "metadata": {},
   "outputs": [],
   "source": [
    "import pandas as pd\n",
    "from xgboost import XGBClassifier\n",
    "from sklearn.preprocessing import LabelEncoder\n",
    "from sklearn.model_selection import train_test_split\n",
    "from sklearn.metrics import accuracy_score\n",
    "import matplotlib.pyplot as pyplot\n",
    "\n",
    "gyro = pd.read_csv('datasets/gyro_mobile.csv')"
   ]
  },
  {
   "cell_type": "markdown",
   "metadata": {},
   "source": [
    "##### <ins>Taking a look at the DFs head:</ins>"
   ]
  },
  {
   "cell_type": "code",
   "execution_count": 90,
   "metadata": {},
   "outputs": [
    {
     "name": "stdout",
     "output_type": "stream",
     "text": [
      "       accX      accY      accZ     gyroX     gyroY     gyroZ  Activity\n",
      "0 -0.496517  3.785628  8.954828 -0.142849 -0.126159 -0.022539         1\n",
      "1 -0.462388  3.869603  9.281898  0.084349  0.096695  0.092130         1\n",
      "2 -0.296084  3.820505  8.930728  0.061763  0.051543  0.071287         1\n",
      "3 -0.469723  3.890110  8.744067  0.007641  0.028679  0.109433         1\n",
      "4 -0.472418  4.109105  8.941207 -0.123640  0.099057  0.051943         1\n"
     ]
    }
   ],
   "source": [
    "print(gyro.head())"
   ]
  },
  {
   "cell_type": "code",
   "execution_count": null,
   "metadata": {},
   "outputs": [],
   "source": [
    "gyroCols = gyro.columns.to_list()\n",
    "for col in gyroCols:\n",
    "    print(f\"Column: {col} \\n{gyro[col].describe()} \\nData Type: {gyro[col].dtype}\\n\")"
   ]
  },
  {
   "cell_type": "markdown",
   "metadata": {},
   "source": [
    "Insights:\n",
    "- 31991 data points\n",
    "- Every feature is continuous\n",
    "- Activity is either 1 or 0 (binary classification)\n",
    "- Dataset contains a timestamp that might be dropped"
   ]
  },
  {
   "cell_type": "markdown",
   "metadata": {},
   "source": [
    "##### <ins>Dropping timestamp and splitting data into training and testing</ins>"
   ]
  },
  {
   "cell_type": "code",
   "execution_count": null,
   "metadata": {},
   "outputs": [],
   "source": [
    "gyro = gyro.drop(columns='timestamp')\n",
    "\n",
    "x_train, x_test, y_train, y_test = train_test_split(\n",
    "    gyro.iloc[:,:6],\n",
    "    gyro.iloc[:,6:]\n",
    ")"
   ]
  },
  {
   "cell_type": "markdown",
   "metadata": {},
   "source": [
    "##### <ins>Training and Evaluating</ins>"
   ]
  },
  {
   "cell_type": "code",
   "execution_count": null,
   "metadata": {},
   "outputs": [],
   "source": [
    "model = XGBClassifier(\n",
    "    objective='binary:logistic',\n",
    "    n_estimators=695,\n",
    "    max_depth=2,\n",
    "    learning_rate=0.1\n",
    ")\n",
    "\n",
    "model.fit(x_train, y_train)\n",
    "yhat = model.predict(x_test)\n",
    "print(accuracy_score(y_test, yhat))"
   ]
  },
  {
   "cell_type": "markdown",
   "metadata": {},
   "source": [
    "##### <ins>Finding a good amount of estimator (brute force)</ins> <br>\n",
    "*Abgebrochen, weil nach 6 Minuten gerade mal ~1300 Iterationen durchgeführt worden sind*"
   ]
  },
  {
   "cell_type": "code",
   "execution_count": null,
   "metadata": {},
   "outputs": [],
   "source": [
    "# n = 2500\n",
    "# list = []\n",
    "# for i in range(n):\n",
    "#     model = XGBClassifier(\n",
    "#         objective='binary:logistic',\n",
    "#         n_estimators=i,\n",
    "#         max_depth=2,\n",
    "#         learning_rate=0.1\n",
    "#     )\n",
    "#     model.fit(x_train, y_train)\n",
    "#     yhat = model.predict(x_test)\n",
    "#     list.append(accuracy_score(y_test, yhat))\n",
    "\n",
    "# print(list.index(max(list))) # Nach 1300 Iterationen war an Position 695 die Genauigkeit am hoechsten"
   ]
  }
 ],
 "metadata": {
  "kernelspec": {
   "display_name": "Python 3",
   "language": "python",
   "name": "python3"
  },
  "language_info": {
   "codemirror_mode": {
    "name": "ipython",
    "version": 3
   },
   "file_extension": ".py",
   "mimetype": "text/x-python",
   "name": "python",
   "nbconvert_exporter": "python",
   "pygments_lexer": "ipython3",
   "version": "3.10.12"
  }
 },
 "nbformat": 4,
 "nbformat_minor": 2
}
