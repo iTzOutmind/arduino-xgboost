{
 "cells": [
  {
   "cell_type": "markdown",
   "metadata": {},
   "source": [
    "##### <ins>Import required libs</ins>"
   ]
  },
  {
   "cell_type": "code",
   "execution_count": null,
   "metadata": {},
   "outputs": [],
   "source": [
    "import pandas as pd\n",
    "from xgboost import XGBClassifier\n",
    "from sklearn.preprocessing import LabelEncoder\n",
    "from sklearn.model_selection import train_test_split\n",
    "from sklearn.metrics import accuracy_score\n",
    "import matplotlib.pyplot as pyplot"
   ]
  },
  {
   "cell_type": "markdown",
   "metadata": {},
   "source": [
    "##### <ins>Taking a look at the DFs head:</ins>"
   ]
  },
  {
   "cell_type": "code",
   "execution_count": null,
   "metadata": {},
   "outputs": [
    {
     "name": "stdout",
     "output_type": "stream",
     "text": [
      "       accX      accY      accZ     gyroX     gyroY     gyroZ timestamp  \\\n",
      "0 -0.496517  3.785628  8.954828 -0.142849 -0.126159 -0.022539   34:22.9   \n",
      "1 -0.462388  3.869603  9.281898  0.084349  0.096695  0.092130   34:23.0   \n",
      "2 -0.296084  3.820505  8.930728  0.061763  0.051543  0.071287   34:23.1   \n",
      "3 -0.469723  3.890110  8.744067  0.007641  0.028679  0.109433   34:23.2   \n",
      "4 -0.472418  4.109105  8.941207 -0.123640  0.099057  0.051943   34:23.3   \n",
      "\n",
      "   Activity  \n",
      "0         1  \n",
      "1         1  \n",
      "2         1  \n",
      "3         1  \n",
      "4         1  \n"
     ]
    }
   ],
   "source": [
    "gyro = pd.read_csv('../datasets/gyro_mobile.csv')\n",
    "print(gyro.head())"
   ]
  },
  {
   "cell_type": "code",
   "execution_count": 6,
   "metadata": {},
   "outputs": [
    {
     "name": "stdout",
     "output_type": "stream",
     "text": [
      "Column: accX \n",
      "count    31991.000000\n",
      "mean         0.023825\n",
      "std          0.741396\n",
      "min         -3.673361\n",
      "25%         -0.472193\n",
      "50%         -0.024998\n",
      "75%          0.477208\n",
      "max          4.678671\n",
      "Name: accX, dtype: float64 \n",
      "Data Type: float64\n",
      "\n",
      "Column: accY \n",
      "count    31991.000000\n",
      "mean         2.153858\n",
      "std          1.085466\n",
      "min         -4.386029\n",
      "25%          1.413062\n",
      "50%          2.119143\n",
      "75%          2.928435\n",
      "max          6.377039\n",
      "Name: accY, dtype: float64 \n",
      "Data Type: float64\n",
      "\n",
      "Column: accZ \n",
      "count    31991.000000\n",
      "mean         9.537909\n",
      "std          2.056358\n",
      "min          4.296066\n",
      "25%          7.794217\n",
      "50%          9.406739\n",
      "75%         11.158845\n",
      "max         17.591568\n",
      "Name: accZ, dtype: float64 \n",
      "Data Type: float64\n",
      "\n",
      "Column: gyroX \n",
      "count    31991.000000\n",
      "mean        -0.004493\n",
      "std          0.307643\n",
      "min         -1.470421\n",
      "25%         -0.149783\n",
      "50%          0.022301\n",
      "75%          0.177978\n",
      "max          1.332722\n",
      "Name: gyroX, dtype: float64 \n",
      "Data Type: float64\n",
      "\n",
      "Column: gyroY \n",
      "count    31991.000000\n",
      "mean        -0.014756\n",
      "std          0.249201\n",
      "min         -1.430659\n",
      "25%         -0.162656\n",
      "50%         -0.011060\n",
      "75%          0.124966\n",
      "max          1.480135\n",
      "Name: gyroY, dtype: float64 \n",
      "Data Type: float64\n",
      "\n",
      "Column: gyroZ \n",
      "count    31991.000000\n",
      "mean        -0.007021\n",
      "std          0.266120\n",
      "min         -1.894102\n",
      "25%         -0.154126\n",
      "50%          0.005261\n",
      "75%          0.152061\n",
      "max          1.482268\n",
      "Name: gyroZ, dtype: float64 \n",
      "Data Type: float64\n",
      "\n",
      "Column: timestamp \n",
      "count       31991\n",
      "unique      21776\n",
      "top       59:21.3\n",
      "freq            4\n",
      "Name: timestamp, dtype: object \n",
      "Data Type: object\n",
      "\n",
      "Column: Activity \n",
      "count    31991.000000\n",
      "mean         0.982151\n",
      "std          0.132404\n",
      "min          0.000000\n",
      "25%          1.000000\n",
      "50%          1.000000\n",
      "75%          1.000000\n",
      "max          1.000000\n",
      "Name: Activity, dtype: float64 \n",
      "Data Type: int64\n",
      "\n"
     ]
    }
   ],
   "source": [
    "gyroCols = gyro.columns.to_list()\n",
    "for col in gyroCols:\n",
    "    print(f\"Column: {col} \\n{gyro[col].describe()} \\nData Type: {gyro[col].dtype}\\n\")"
   ]
  },
  {
   "cell_type": "markdown",
   "metadata": {},
   "source": [
    "Insights:\n",
    "- 31991 data points\n",
    "- Every feature is continuous\n",
    "- Activity is either 1 or 0 (binary classification)\n",
    "- Dataset contains a timestamp that might be dropped"
   ]
  },
  {
   "cell_type": "markdown",
   "metadata": {},
   "source": [
    "##### <ins>Dropping timestamp and splitting data into training and testing</ins>"
   ]
  },
  {
   "cell_type": "code",
   "execution_count": 7,
   "metadata": {},
   "outputs": [],
   "source": [
    "gyro = gyro.drop(columns='timestamp')\n",
    "\n",
    "x_train, x_test, y_train, y_test = train_test_split(\n",
    "    gyro.iloc[:,:6],\n",
    "    gyro.iloc[:,6:],\n",
    "    test_size=0.2,\n",
    "    random_state=0\n",
    ")"
   ]
  },
  {
   "cell_type": "markdown",
   "metadata": {},
   "source": [
    "##### <ins>Training and Evaluating</ins><br>\n",
    "Um eine gute Anzahl an Estimators zu bestimmen, wird zuerst ein Modell mithilfe von Early Stopping, sowie einer großen Menge an Estimatoren trainiert. Hiermit wird die beste Anzahl an Iterationen ermittelt und mit dieser Anzahl ein weiteres Modell trainiert."
   ]
  },
  {
   "cell_type": "code",
   "execution_count": 8,
   "metadata": {},
   "outputs": [
    {
     "name": "stdout",
     "output_type": "stream",
     "text": [
      "Best Iteration: 624\n",
      "0.9832786372870761\n"
     ]
    }
   ],
   "source": [
    "preModel = XGBClassifier(           # \"Spendermodell\"\n",
    "    objective='binary:logistic',\n",
    "    n_estimators=10000,             # \"Große Anzahl an Schaetzern, die nicht erreicht werden soll\"\n",
    "    early_stopping_rounds=100,      # Anzahl an Runden, bei denen sich das Modell nicht verbessern muss, bis abgebrochen wird\n",
    "    max_depth=2,\n",
    "    learning_rate=0.1\n",
    ")\n",
    "\n",
    "evaldata=[(x_test,y_test)]          # Datensatz zur Evaluierung\n",
    "\n",
    "preModel.fit(x_train, y_train, eval_set=evaldata, verbose=False)\n",
    "\n",
    "bIter = preModel.best_iteration     # Beste Anzahl an Estimatoren\n",
    "print(f'Best Iteration: {bIter}')\n",
    "\n",
    "model = XGBClassifier(\n",
    "    objective='binary:logistic',\n",
    "    n_estimators=bIter,\n",
    "    max_depth=2,\n",
    "    learning_rate=0.1\n",
    ")\n",
    "\n",
    "model.fit(x_train, y_train)\n",
    "\n",
    "yhat = model.predict(x_test)\n",
    "print(accuracy_score(y_test, yhat))"
   ]
  }
 ],
 "metadata": {
  "kernelspec": {
   "display_name": "Python 3",
   "language": "python",
   "name": "python3"
  },
  "language_info": {
   "codemirror_mode": {
    "name": "ipython",
    "version": 3
   },
   "file_extension": ".py",
   "mimetype": "text/x-python",
   "name": "python",
   "nbconvert_exporter": "python",
   "pygments_lexer": "ipython3",
   "version": "3.10.12"
  }
 },
 "nbformat": 4,
 "nbformat_minor": 2
}
