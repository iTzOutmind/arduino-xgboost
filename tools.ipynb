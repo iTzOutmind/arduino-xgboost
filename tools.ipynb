{
 "cells": [
  {
   "cell_type": "markdown",
   "metadata": {},
   "source": [
    "Copy Arduino Sketches"
   ]
  },
  {
   "cell_type": "code",
   "execution_count": null,
   "metadata": {},
   "outputs": [
    {
     "data": {
      "text/plain": [
       "'/home/denis/arduino-xgboost/arduino-sketches'"
      ]
     },
     "execution_count": 5,
     "metadata": {},
     "output_type": "execute_result"
    }
   ],
   "source": [
    "def copySketches():\n",
    "    import shutil\n",
    "\n",
    "    src = '/mnt/t/Denis/Uni/Bachelorthesis/Arduino Sketches'\n",
    "    dest = '/home/denis/arduino-xgboost/arduino-sketches'\n",
    "\n",
    "    shutil.copytree(src,dest,dirs_exist_ok = True)\n",
    "\n",
    "copySketches()"
   ]
  }
 ],
 "metadata": {
  "kernelspec": {
   "display_name": "Python 3",
   "language": "python",
   "name": "python3"
  },
  "language_info": {
   "codemirror_mode": {
    "name": "ipython",
    "version": 3
   },
   "file_extension": ".py",
   "mimetype": "text/x-python",
   "name": "python",
   "nbconvert_exporter": "python",
   "pygments_lexer": "ipython3",
   "version": "3.10.12"
  }
 },
 "nbformat": 4,
 "nbformat_minor": 2
}
